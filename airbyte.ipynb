{
 "cells": [
  {
   "cell_type": "code",
   "execution_count": 5,
   "metadata": {},
   "outputs": [
    {
     "name": "stdout",
     "output_type": "stream",
     "text": [
      "Defaulting to user installation because normal site-packages is not writeable\n",
      "Requirement already satisfied: airbyte in /Users/siddhant/Library/Python/3.9/lib/python/site-packages (0.11.2)\n",
      "Requirement already satisfied: airbyte-api<0.50.0,>=0.49.2 in /Users/siddhant/Library/Python/3.9/lib/python/site-packages (from airbyte) (0.49.4)\n",
      "Requirement already satisfied: airbyte-cdk<0.82.0,>=0.81.6 in /Users/siddhant/Library/Python/3.9/lib/python/site-packages (from airbyte) (0.81.8)\n",
      "Requirement already satisfied: duckdb==0.9.2 in /Users/siddhant/Library/Python/3.9/lib/python/site-packages (from airbyte) (0.9.2)\n",
      "Requirement already satisfied: duckdb-engine==0.9.2 in /Users/siddhant/Library/Python/3.9/lib/python/site-packages (from airbyte) (0.9.2)\n",
      "Requirement already satisfied: google-auth<3.0,>=2.27.0 in /Users/siddhant/Library/Python/3.9/lib/python/site-packages (from airbyte) (2.27.0)\n",
      "Requirement already satisfied: google-cloud-bigquery<4.0,>=3.12.0 in /Users/siddhant/Library/Python/3.9/lib/python/site-packages (from airbyte) (3.17.1)\n",
      "Requirement already satisfied: google-cloud-bigquery-storage<3.0.0,>=2.25.0 in /Users/siddhant/Library/Python/3.9/lib/python/site-packages (from airbyte) (2.25.0)\n",
      "Requirement already satisfied: google-cloud-secret-manager<3.0.0,>=2.17.0 in /Users/siddhant/Library/Python/3.9/lib/python/site-packages (from airbyte) (2.20.0)\n",
      "Requirement already satisfied: jsonschema<5.0,>=3.2.0 in /Users/siddhant/Library/Python/3.9/lib/python/site-packages (from airbyte) (3.2.0)\n",
      "Requirement already satisfied: orjson==3.9.15 in /Users/siddhant/Library/Python/3.9/lib/python/site-packages (from airbyte) (3.9.15)\n",
      "Requirement already satisfied: overrides<8.0.0,>=7.4.0 in /Users/siddhant/Library/Python/3.9/lib/python/site-packages (from airbyte) (7.7.0)\n",
      "Requirement already satisfied: pandas<=2.1.4,>=1.5.3 in /Users/siddhant/Library/Python/3.9/lib/python/site-packages (from airbyte) (2.1.4)\n",
      "Requirement already satisfied: pendulum<=3.0.0 in /Users/siddhant/Library/Python/3.9/lib/python/site-packages (from airbyte) (2.1.2)\n",
      "Requirement already satisfied: psycopg2-binary<3.0.0,>=2.9.9 in /Users/siddhant/Library/Python/3.9/lib/python/site-packages (from airbyte) (2.9.9)\n",
      "Requirement already satisfied: pydantic<=2.0 in /Users/siddhant/Library/Python/3.9/lib/python/site-packages (from airbyte) (1.10.15)\n",
      "Requirement already satisfied: python-dotenv<2.0.0,>=1.0.1 in /Users/siddhant/Library/Python/3.9/lib/python/site-packages (from airbyte) (1.0.1)\n",
      "Requirement already satisfied: python-ulid<3.0.0,>=2.2.0 in /Users/siddhant/Library/Python/3.9/lib/python/site-packages (from airbyte) (2.6.0)\n",
      "Requirement already satisfied: requests<=2.31.0 in /Users/siddhant/Library/Python/3.9/lib/python/site-packages (from airbyte) (2.31.0)\n",
      "Requirement already satisfied: rich<14.0.0,>=13.7.0 in /Users/siddhant/Library/Python/3.9/lib/python/site-packages (from airbyte) (13.7.1)\n",
      "Requirement already satisfied: snowflake-connector-python<4.0.0,>=3.10.0 in /Users/siddhant/Library/Python/3.9/lib/python/site-packages (from airbyte) (3.10.1)\n",
      "Requirement already satisfied: snowflake-sqlalchemy<2.0.0,>=1.5.1 in /Users/siddhant/Library/Python/3.9/lib/python/site-packages (from airbyte) (1.5.3)\n",
      "Requirement already satisfied: sqlalchemy==1.4.51 in /Users/siddhant/Library/Python/3.9/lib/python/site-packages (from airbyte) (1.4.51)\n",
      "Requirement already satisfied: sqlalchemy-bigquery==1.9.0 in /Users/siddhant/Library/Python/3.9/lib/python/site-packages (from airbyte) (1.9.0)\n",
      "Requirement already satisfied: types-pyyaml<7.0.0.0,>=6.0.12.12 in /Users/siddhant/Library/Python/3.9/lib/python/site-packages (from airbyte) (6.0.12.20240311)\n",
      "Requirement already satisfied: ulid<2.0,>=1.1 in /Users/siddhant/Library/Python/3.9/lib/python/site-packages (from airbyte) (1.1)\n",
      "Requirement already satisfied: google-api-core!=2.0.*,!=2.1.*,!=2.2.*,!=2.3.0,<3.0.0dev,>=1.31.5 in /Users/siddhant/Library/Python/3.9/lib/python/site-packages (from sqlalchemy-bigquery==1.9.0->airbyte) (2.16.2)\n",
      "Requirement already satisfied: packaging in /Users/siddhant/Library/Python/3.9/lib/python/site-packages (from sqlalchemy-bigquery==1.9.0->airbyte) (23.2)\n",
      "Requirement already satisfied: certifi>=2023.7.22 in /Users/siddhant/Library/Python/3.9/lib/python/site-packages (from airbyte-api<0.50.0,>=0.49.2->airbyte) (2023.11.17)\n",
      "Requirement already satisfied: charset-normalizer>=3.2.0 in /Users/siddhant/Library/Python/3.9/lib/python/site-packages (from airbyte-api<0.50.0,>=0.49.2->airbyte) (3.3.2)\n",
      "Requirement already satisfied: dataclasses-json>=0.6.4 in /Users/siddhant/Library/Python/3.9/lib/python/site-packages (from airbyte-api<0.50.0,>=0.49.2->airbyte) (0.6.6)\n",
      "Requirement already satisfied: idna>=3.4 in /Users/siddhant/Library/Python/3.9/lib/python/site-packages (from airbyte-api<0.50.0,>=0.49.2->airbyte) (3.6)\n",
      "Requirement already satisfied: jsonpath-python>=1.0.6 in /Users/siddhant/Library/Python/3.9/lib/python/site-packages (from airbyte-api<0.50.0,>=0.49.2->airbyte) (1.0.6)\n",
      "Requirement already satisfied: marshmallow>=3.19.0 in /Users/siddhant/Library/Python/3.9/lib/python/site-packages (from airbyte-api<0.50.0,>=0.49.2->airbyte) (3.21.2)\n",
      "Requirement already satisfied: mypy-extensions>=1.0.0 in /Users/siddhant/Library/Python/3.9/lib/python/site-packages (from airbyte-api<0.50.0,>=0.49.2->airbyte) (1.0.0)\n",
      "Requirement already satisfied: python-dateutil>=2.8.2 in /Users/siddhant/Library/Python/3.9/lib/python/site-packages (from airbyte-api<0.50.0,>=0.49.2->airbyte) (2.8.2)\n",
      "Requirement already satisfied: six>=1.16.0 in /Users/siddhant/Library/Python/3.9/lib/python/site-packages (from airbyte-api<0.50.0,>=0.49.2->airbyte) (1.16.0)\n",
      "Requirement already satisfied: typing-inspect>=0.9.0 in /Users/siddhant/Library/Python/3.9/lib/python/site-packages (from airbyte-api<0.50.0,>=0.49.2->airbyte) (0.9.0)\n",
      "Requirement already satisfied: typing-extensions>=4.7.1 in /Users/siddhant/Library/Python/3.9/lib/python/site-packages (from airbyte-api<0.50.0,>=0.49.2->airbyte) (4.9.0)\n",
      "Requirement already satisfied: urllib3>=1.26.18 in /Users/siddhant/Library/Python/3.9/lib/python/site-packages (from airbyte-api<0.50.0,>=0.49.2->airbyte) (1.26.18)\n",
      "Requirement already satisfied: Deprecated<1.3,>=1.2 in /Users/siddhant/Library/Python/3.9/lib/python/site-packages (from airbyte-cdk<0.82.0,>=0.81.6->airbyte) (1.2.14)\n",
      "Requirement already satisfied: Jinja2<3.2.0,>=3.1.2 in /Users/siddhant/Library/Python/3.9/lib/python/site-packages (from airbyte-cdk<0.82.0,>=0.81.6->airbyte) (3.1.3)\n",
      "Requirement already satisfied: PyYAML<7.0.0,>=6.0.1 in /Users/siddhant/Library/Python/3.9/lib/python/site-packages (from airbyte-cdk<0.82.0,>=0.81.6->airbyte) (6.0.1)\n",
      "Requirement already satisfied: airbyte-protocol-models in /Users/siddhant/Library/Python/3.9/lib/python/site-packages (from airbyte-cdk<0.82.0,>=0.81.6->airbyte) (0.11.0)\n",
      "Requirement already satisfied: backoff in /Users/siddhant/Library/Python/3.9/lib/python/site-packages (from airbyte-cdk<0.82.0,>=0.81.6->airbyte) (2.2.1)\n",
      "Requirement already satisfied: cachetools in /Users/siddhant/Library/Python/3.9/lib/python/site-packages (from airbyte-cdk<0.82.0,>=0.81.6->airbyte) (5.3.2)\n",
      "Requirement already satisfied: dpath<2.1.0,>=2.0.1 in /Users/siddhant/Library/Python/3.9/lib/python/site-packages (from airbyte-cdk<0.82.0,>=0.81.6->airbyte) (2.0.8)\n",
      "Requirement already satisfied: genson==1.2.2 in /Users/siddhant/Library/Python/3.9/lib/python/site-packages (from airbyte-cdk<0.82.0,>=0.81.6->airbyte) (1.2.2)\n",
      "Requirement already satisfied: isodate<0.7.0,>=0.6.1 in /Users/siddhant/Library/Python/3.9/lib/python/site-packages (from airbyte-cdk<0.82.0,>=0.81.6->airbyte) (0.6.1)\n",
      "Requirement already satisfied: jsonref<0.3,>=0.2 in /Users/siddhant/Library/Python/3.9/lib/python/site-packages (from airbyte-cdk<0.82.0,>=0.81.6->airbyte) (0.2)\n",
      "Requirement already satisfied: langchain_core==0.1.42 in /Users/siddhant/Library/Python/3.9/lib/python/site-packages (from airbyte-cdk<0.82.0,>=0.81.6->airbyte) (0.1.42)\n",
      "Requirement already satisfied: pyrate-limiter<3.2.0,>=3.1.0 in /Users/siddhant/Library/Python/3.9/lib/python/site-packages (from airbyte-cdk<0.82.0,>=0.81.6->airbyte) (3.1.1)\n",
      "Requirement already satisfied: requests_cache in /Users/siddhant/Library/Python/3.9/lib/python/site-packages (from airbyte-cdk<0.82.0,>=0.81.6->airbyte) (1.2.0)\n",
      "Requirement already satisfied: wcmatch==8.4 in /Users/siddhant/Library/Python/3.9/lib/python/site-packages (from airbyte-cdk<0.82.0,>=0.81.6->airbyte) (8.4)\n",
      "Requirement already satisfied: jsonpatch<2.0,>=1.33 in /Users/siddhant/Library/Python/3.9/lib/python/site-packages (from langchain_core==0.1.42->airbyte-cdk<0.82.0,>=0.81.6->airbyte) (1.33)\n",
      "Requirement already satisfied: langsmith<0.2.0,>=0.1.0 in /Users/siddhant/Library/Python/3.9/lib/python/site-packages (from langchain_core==0.1.42->airbyte-cdk<0.82.0,>=0.81.6->airbyte) (0.1.67)\n",
      "Requirement already satisfied: tenacity<9.0.0,>=8.1.0 in /Users/siddhant/Library/Python/3.9/lib/python/site-packages (from langchain_core==0.1.42->airbyte-cdk<0.82.0,>=0.81.6->airbyte) (8.2.3)\n",
      "Requirement already satisfied: bracex>=2.1.1 in /Users/siddhant/Library/Python/3.9/lib/python/site-packages (from wcmatch==8.4->airbyte-cdk<0.82.0,>=0.81.6->airbyte) (2.4)\n",
      "Requirement already satisfied: pyasn1-modules>=0.2.1 in /Users/siddhant/Library/Python/3.9/lib/python/site-packages (from google-auth<3.0,>=2.27.0->airbyte) (0.3.0)\n",
      "Requirement already satisfied: rsa<5,>=3.1.4 in /Users/siddhant/Library/Python/3.9/lib/python/site-packages (from google-auth<3.0,>=2.27.0->airbyte) (4.9)\n",
      "Requirement already satisfied: google-cloud-core<3.0.0dev,>=1.6.0 in /Users/siddhant/Library/Python/3.9/lib/python/site-packages (from google-cloud-bigquery<4.0,>=3.12.0->airbyte) (2.4.1)\n",
      "Requirement already satisfied: google-resumable-media<3.0dev,>=0.6.0 in /Users/siddhant/Library/Python/3.9/lib/python/site-packages (from google-cloud-bigquery<4.0,>=3.12.0->airbyte) (2.7.0)\n",
      "Requirement already satisfied: proto-plus<2.0.0dev,>=1.22.0 in /Users/siddhant/Library/Python/3.9/lib/python/site-packages (from google-cloud-bigquery-storage<3.0.0,>=2.25.0->airbyte) (1.23.0)\n",
      "Requirement already satisfied: protobuf!=3.20.0,!=3.20.1,!=4.21.0,!=4.21.1,!=4.21.2,!=4.21.3,!=4.21.4,!=4.21.5,<5.0.0dev,>=3.19.5 in /Users/siddhant/Library/Python/3.9/lib/python/site-packages (from google-cloud-bigquery-storage<3.0.0,>=2.25.0->airbyte) (4.25.2)\n",
      "Requirement already satisfied: grpc-google-iam-v1<1.0.0dev,>=0.12.4 in /Users/siddhant/Library/Python/3.9/lib/python/site-packages (from google-cloud-secret-manager<3.0.0,>=2.17.0->airbyte) (0.13.0)\n",
      "Requirement already satisfied: attrs>=17.4.0 in /Users/siddhant/Library/Python/3.9/lib/python/site-packages (from jsonschema<5.0,>=3.2.0->airbyte) (23.2.0)\n",
      "Requirement already satisfied: pyrsistent>=0.14.0 in /Users/siddhant/Library/Python/3.9/lib/python/site-packages (from jsonschema<5.0,>=3.2.0->airbyte) (0.20.0)\n",
      "Requirement already satisfied: setuptools in /Users/siddhant/Library/Python/3.9/lib/python/site-packages (from jsonschema<5.0,>=3.2.0->airbyte) (69.0.3)\n",
      "Requirement already satisfied: numpy<2,>=1.22.4 in /Users/siddhant/Library/Python/3.9/lib/python/site-packages (from pandas<=2.1.4,>=1.5.3->airbyte) (1.26.4)\n",
      "Requirement already satisfied: pytz>=2020.1 in /Users/siddhant/Library/Python/3.9/lib/python/site-packages (from pandas<=2.1.4,>=1.5.3->airbyte) (2023.3.post1)\n",
      "Requirement already satisfied: tzdata>=2022.1 in /Users/siddhant/Library/Python/3.9/lib/python/site-packages (from pandas<=2.1.4,>=1.5.3->airbyte) (2024.1)\n",
      "Requirement already satisfied: pytzdata>=2020.1 in /Users/siddhant/Library/Python/3.9/lib/python/site-packages (from pendulum<=3.0.0->airbyte) (2020.1)\n",
      "Requirement already satisfied: markdown-it-py>=2.2.0 in /Users/siddhant/Library/Python/3.9/lib/python/site-packages (from rich<14.0.0,>=13.7.0->airbyte) (3.0.0)\n",
      "Requirement already satisfied: pygments<3.0.0,>=2.13.0 in /Users/siddhant/Library/Python/3.9/lib/python/site-packages (from rich<14.0.0,>=13.7.0->airbyte) (2.17.2)\n",
      "Requirement already satisfied: asn1crypto<2.0.0,>0.24.0 in /Users/siddhant/Library/Python/3.9/lib/python/site-packages (from snowflake-connector-python<4.0.0,>=3.10.0->airbyte) (1.5.1)\n",
      "Requirement already satisfied: cffi<2.0.0,>=1.9 in /Users/siddhant/Library/Python/3.9/lib/python/site-packages (from snowflake-connector-python<4.0.0,>=3.10.0->airbyte) (1.16.0)\n",
      "Requirement already satisfied: cryptography<43.0.0,>=3.1.0 in /Users/siddhant/Library/Python/3.9/lib/python/site-packages (from snowflake-connector-python<4.0.0,>=3.10.0->airbyte) (41.0.7)\n",
      "Requirement already satisfied: pyOpenSSL<25.0.0,>=16.2.0 in /Users/siddhant/Library/Python/3.9/lib/python/site-packages (from snowflake-connector-python<4.0.0,>=3.10.0->airbyte) (23.3.0)\n",
      "Requirement already satisfied: pyjwt<3.0.0 in /Users/siddhant/Library/Python/3.9/lib/python/site-packages (from snowflake-connector-python<4.0.0,>=3.10.0->airbyte) (2.8.0)\n",
      "Requirement already satisfied: filelock<4,>=3.5 in /Users/siddhant/Library/Python/3.9/lib/python/site-packages (from snowflake-connector-python<4.0.0,>=3.10.0->airbyte) (3.13.1)\n",
      "Requirement already satisfied: sortedcontainers>=2.4.0 in /Users/siddhant/Library/Python/3.9/lib/python/site-packages (from snowflake-connector-python<4.0.0,>=3.10.0->airbyte) (2.4.0)\n",
      "Requirement already satisfied: platformdirs<5.0.0,>=2.6.0 in /Users/siddhant/Library/Python/3.9/lib/python/site-packages (from snowflake-connector-python<4.0.0,>=3.10.0->airbyte) (3.11.0)\n",
      "Requirement already satisfied: tomlkit in /Users/siddhant/Library/Python/3.9/lib/python/site-packages (from snowflake-connector-python<4.0.0,>=3.10.0->airbyte) (0.12.3)\n",
      "Requirement already satisfied: pycparser in /Users/siddhant/Library/Python/3.9/lib/python/site-packages (from cffi<2.0.0,>=1.9->snowflake-connector-python<4.0.0,>=3.10.0->airbyte) (2.21)\n",
      "Requirement already satisfied: wrapt<2,>=1.10 in /Users/siddhant/Library/Python/3.9/lib/python/site-packages (from Deprecated<1.3,>=1.2->airbyte-cdk<0.82.0,>=0.81.6->airbyte) (1.16.0)\n",
      "Requirement already satisfied: googleapis-common-protos<2.0.dev0,>=1.56.2 in /Users/siddhant/Library/Python/3.9/lib/python/site-packages (from google-api-core!=2.0.*,!=2.1.*,!=2.2.*,!=2.3.0,<3.0.0dev,>=1.31.5->sqlalchemy-bigquery==1.9.0->airbyte) (1.62.0)\n",
      "Requirement already satisfied: grpcio<2.0dev,>=1.33.2 in /Users/siddhant/Library/Python/3.9/lib/python/site-packages (from google-api-core[grpc]!=2.0.*,!=2.1.*,!=2.10.*,!=2.2.*,!=2.3.*,!=2.4.*,!=2.5.*,!=2.6.*,!=2.7.*,!=2.8.*,!=2.9.*,<3.0.0dev,>=1.34.0->google-cloud-bigquery-storage<3.0.0,>=2.25.0->airbyte) (1.60.1)\n",
      "Requirement already satisfied: grpcio-status<2.0.dev0,>=1.33.2 in /Users/siddhant/Library/Python/3.9/lib/python/site-packages (from google-api-core[grpc]!=2.0.*,!=2.1.*,!=2.10.*,!=2.2.*,!=2.3.*,!=2.4.*,!=2.5.*,!=2.6.*,!=2.7.*,!=2.8.*,!=2.9.*,<3.0.0dev,>=1.34.0->google-cloud-bigquery-storage<3.0.0,>=2.25.0->airbyte) (1.60.1)\n",
      "Requirement already satisfied: google-crc32c<2.0dev,>=1.0 in /Users/siddhant/Library/Python/3.9/lib/python/site-packages (from google-resumable-media<3.0dev,>=0.6.0->google-cloud-bigquery<4.0,>=3.12.0->airbyte) (1.5.0)\n",
      "Requirement already satisfied: MarkupSafe>=2.0 in /Users/siddhant/Library/Python/3.9/lib/python/site-packages (from Jinja2<3.2.0,>=3.1.2->airbyte-cdk<0.82.0,>=0.81.6->airbyte) (2.1.4)\n",
      "Requirement already satisfied: mdurl~=0.1 in /Users/siddhant/Library/Python/3.9/lib/python/site-packages (from markdown-it-py>=2.2.0->rich<14.0.0,>=13.7.0->airbyte) (0.1.2)\n",
      "Requirement already satisfied: pyasn1<0.6.0,>=0.4.6 in /Users/siddhant/Library/Python/3.9/lib/python/site-packages (from pyasn1-modules>=0.2.1->google-auth<3.0,>=2.27.0->airbyte) (0.5.1)\n",
      "Requirement already satisfied: cattrs>=22.2 in /Users/siddhant/Library/Python/3.9/lib/python/site-packages (from requests_cache->airbyte-cdk<0.82.0,>=0.81.6->airbyte) (23.2.3)\n",
      "Requirement already satisfied: url-normalize>=1.4 in /Users/siddhant/Library/Python/3.9/lib/python/site-packages (from requests_cache->airbyte-cdk<0.82.0,>=0.81.6->airbyte) (1.4.3)\n",
      "Requirement already satisfied: exceptiongroup>=1.1.1 in /Users/siddhant/Library/Python/3.9/lib/python/site-packages (from cattrs>=22.2->requests_cache->airbyte-cdk<0.82.0,>=0.81.6->airbyte) (1.2.0)\n",
      "Requirement already satisfied: jsonpointer>=1.9 in /Users/siddhant/Library/Python/3.9/lib/python/site-packages (from jsonpatch<2.0,>=1.33->langchain_core==0.1.42->airbyte-cdk<0.82.0,>=0.81.6->airbyte) (2.4)\n",
      "\n",
      "\u001b[1m[\u001b[0m\u001b[34;49mnotice\u001b[0m\u001b[1;39;49m]\u001b[0m\u001b[39;49m A new release of pip is available: \u001b[0m\u001b[31;49m23.3.2\u001b[0m\u001b[39;49m -> \u001b[0m\u001b[32;49m24.0\u001b[0m\n",
      "\u001b[1m[\u001b[0m\u001b[34;49mnotice\u001b[0m\u001b[1;39;49m]\u001b[0m\u001b[39;49m To update, run: \u001b[0m\u001b[32;49m/Library/Developer/CommandLineTools/usr/bin/python3 -m pip install --upgrade pip\u001b[0m\n",
      "Note: you may need to restart the kernel to use updated packages.\n"
     ]
    }
   ],
   "source": [
    "pip install airbyte"
   ]
  },
  {
   "cell_type": "code",
   "execution_count": 7,
   "metadata": {},
   "outputs": [],
   "source": [
    "import airbyte as ab \n",
    "\n",
    "source = ab.get_source(\n",
    "    \"source-avni\",\n",
    "    config={\"count\": 5_000},\n",
    "    install_if_missing=True,\n",
    ")\n"
   ]
  },
  {
   "cell_type": "code",
   "execution_count": 9,
   "metadata": {},
   "outputs": [
    {
     "name": "stdout",
     "output_type": "stream",
     "text": [
      "['source-activecampaign', 'source-adjust', 'source-aha', 'source-aircall', 'source-airtable', 'source-alpha-vantage', 'source-amazon-ads', 'source-amazon-seller-partner', 'source-amazon-sqs', 'source-amplitude', 'source-apify-dataset', 'source-appfollow', 'source-apple-search-ads', 'source-appsflyer', 'source-asana', 'source-ashby', 'source-auth0', 'source-avni', 'source-aws-cloudtrail', 'source-azure-blob-storage', 'source-azure-table', 'source-babelforce', 'source-bamboo-hr', 'source-bing-ads', 'source-braintree', 'source-braze', 'source-breezometer', 'source-callrail', 'source-captain-data', 'source-cart', 'source-chargebee', 'source-chargify', 'source-chartmogul', 'source-clickup-api', 'source-clockify', 'source-close-com', 'source-coda', 'source-coin-api', 'source-coingecko-coins', 'source-coinmarketcap', 'source-commcare', 'source-commercetools', 'source-configcat', 'source-confluence', 'source-convertkit', 'source-convex', 'source-copper', 'source-datadog', 'source-datascope', 'source-delighted', 'source-dixa', 'source-dockerhub', 'source-dremio', 'source-drift', 'source-emailoctopus', 'source-everhour', 'source-exchange-rates', 'source-facebook-marketing', 'source-facebook-pages', 'source-faker', 'source-fastbill', 'source-fauna', 'source-file', 'source-firebase-realtime-database', 'source-firebolt', 'source-flexport', 'source-freshcaller', 'source-freshdesk', 'source-freshsales', 'source-freshservice', 'source-fullstory', 'source-gainsight-px', 'source-gcs', 'source-genesys', 'source-getlago', 'source-github', 'source-gitlab', 'source-glassfrog', 'source-gnews', 'source-gocardless', 'source-gong', 'source-google-ads', 'source-google-analytics-data-api', 'source-google-analytics-v4', 'source-google-directory', 'source-google-drive', 'source-google-pagespeed-insights', 'source-google-search-console', 'source-google-sheets', 'source-google-webfonts', 'source-greenhouse', 'source-gridly', 'source-gutendex', 'source-harvest', 'source-hellobaton', 'source-hubplanner', 'source-hubspot', 'source-insightly', 'source-instagram', 'source-instatus', 'source-intercom', 'source-intruder', 'source-ip2whois', 'source-iterable', 'source-jira', 'source-k6-cloud', 'source-klarna', 'source-klaus-api', 'source-klaviyo', 'source-kyriba', 'source-kyve', 'source-launchdarkly', 'source-lemlist', 'source-lever-hiring', 'source-linkedin-ads', 'source-linkedin-pages', 'source-linnworks', 'source-lokalise', 'source-looker', 'source-mailchimp', 'source-mailerlite', 'source-mailersend', 'source-mailgun', 'source-mailjet-mail', 'source-mailjet-sms', 'source-marketo', 'source-merge', 'source-metabase', 'source-microsoft-dataverse', 'source-microsoft-onedrive', 'source-microsoft-sharepoint', 'source-microsoft-teams', 'source-mixpanel', 'source-monday', 'source-my-hours', 'source-n8n', 'source-nasa', 'source-netsuite', 'source-news-api', 'source-newsdata', 'source-notion', 'source-nytimes', 'source-okta', 'source-omnisend', 'source-onesignal', 'source-open-exchange-rates', 'source-openweather', 'source-opsgenie', 'source-orb', 'source-orbit', 'source-oura', 'source-outbrain-amplify', 'source-outreach', 'source-pardot', 'source-partnerstack', 'source-paypal-transaction', 'source-paystack', 'source-pendo', 'source-persistiq', 'source-pexels-api', 'source-pinterest', 'source-pipedrive', 'source-pivotal-tracker', 'source-plaid', 'source-plausible', 'source-pocket', 'source-pokeapi', 'source-polygon-stock-api', 'source-posthog', 'source-postmarkapp', 'source-prestashop', 'source-primetric', 'source-public-apis', 'source-punk-api', 'source-pypi', 'source-qualaroo', 'source-quickbooks', 'source-railz', 'source-rd-station-marketing', 'source-recharge', 'source-recreation', 'source-recruitee', 'source-recurly', 'source-reply-io', 'source-retently', 'source-ringcentral', 'source-rki-covid', 'source-rocket-chat', 'source-rss', 'source-s3', 'source-salesforce', 'source-salesloft', 'source-sap-fieldglass', 'source-secoda', 'source-sendgrid', 'source-sendinblue', 'source-senseforce', 'source-sentry', 'source-serpstat', 'source-sftp-bulk', 'source-shopify', 'source-shortio', 'source-slack', 'source-smaily', 'source-smartengage', 'source-smartsheets', 'source-snapchat-marketing', 'source-sonar-cloud', 'source-spacex-api', 'source-square', 'source-statuspage', 'source-strava', 'source-stripe', 'source-survey-sparrow', 'source-surveycto', 'source-surveymonkey', 'source-tempo', 'source-the-guardian-api', 'source-tiktok-marketing', 'source-timely', 'source-tmdb', 'source-todoist', 'source-toggl', 'source-tplcentral', 'source-trello', 'source-trustpilot', 'source-tvmaze-schedule', 'source-twilio', 'source-twilio-taskrouter', 'source-twitter', 'source-tyntec-sms', 'source-typeform', 'source-us-census', 'source-vantage', 'source-visma-economic', 'source-vitally', 'source-waiteraid', 'source-weatherstack', 'source-webflow', 'source-whisky-hunter', 'source-wikipedia-pageviews', 'source-woocommerce', 'source-workable', 'source-workramp', 'source-wrike', 'source-xero', 'source-xkcd', 'source-yahoo-finance-price', 'source-yandex-metrica', 'source-yotpo', 'source-younium', 'source-youtube-analytics', 'source-zapier-supported-storage', 'source-zendesk-chat', 'source-zendesk-sunshine', 'source-zendesk-support', 'source-zendesk-talk', 'source-zenefits', 'source-zenloop', 'source-zoho-crm', 'source-zoom']\n"
     ]
    }
   ],
   "source": [
    "result = ab.get_available_connectors()\n",
    "\n",
    "print(result)"
   ]
  },
  {
   "cell_type": "code",
   "execution_count": 10,
   "metadata": {},
   "outputs": [],
   "source": [
    "source: ab.Source = ab.get_source(\"source-avni\")"
   ]
  },
  {
   "cell_type": "code",
   "execution_count": 14,
   "metadata": {},
   "outputs": [],
   "source": [
    "source.set_config(\n",
    "    config={\n",
    "        \"username\": \"api@rwb2023\",\n",
    "        \"password\": \"\",\n",
    "        \"start_date\": \"2000-10-31T01:30:00.000Z\"\n",
    "    }\n",
    ")"
   ]
  },
  {
   "cell_type": "code",
   "execution_count": 15,
   "metadata": {},
   "outputs": [
    {
     "data": {
      "text/markdown": [
       "## Read Progress\n",
       "\n",
       "Started reading at 16:57:32.\n",
       "\n",
       "Read **29,066** records over **43min** (11.2 records / second).\n",
       "\n",
       "Wrote **29,066** records over 4 batches.\n",
       "\n",
       "Finished reading at 17:40:54.\n",
       "\n",
       "Started finalizing streams at 17:40:54.\n",
       "\n",
       "Finalized **4** batches over 1 seconds.\n",
       "\n",
       "Completed 2 out of 4 streams:\n",
       "\n",
       "  - subjects\n",
       "  - encounters\n",
       "\n",
       "\n",
       "\n",
       "------------------------------------------------\n"
      ],
      "text/plain": [
       "<IPython.core.display.Markdown object>"
      ]
     },
     "metadata": {},
     "output_type": "display_data"
    },
    {
     "data": {
      "text/html": [
       "<pre style=\"white-space:pre;overflow-x:auto;line-height:normal;font-family:Menlo,'DejaVu Sans Mono',consolas,'Courier New',monospace\">Completed `source-avni` read operation at <span style=\"color: #00ff00; text-decoration-color: #00ff00; font-weight: bold\">23:10:55</span>.\n",
       "</pre>\n"
      ],
      "text/plain": [
       "Completed `source-avni` read operation at \u001b[1;92m23:10:55\u001b[0m.\n"
      ]
     },
     "metadata": {},
     "output_type": "display_data"
    }
   ],
   "source": [
    "source.select_all_streams()\n",
    "read_result: ab.ReadResult = source.read()\n"
   ]
  },
  {
   "cell_type": "code",
   "execution_count": 17,
   "metadata": {},
   "outputs": [
    {
     "name": "stdout",
     "output_type": "stream",
     "text": [
      "                                        id external_id  voided  \\\n",
      "0     05d7e8b8-0404-4183-919f-ed6880674541        None   False   \n",
      "1     b538792b-edc9-4a8d-9ca8-0f6e17d879f1        None   False   \n",
      "2     b29f6d3c-4ec1-4c0a-b773-ae65f0f68800        None   False   \n",
      "3     9462013c-3f17-46ff-8788-68ef3d1aad36        None   False   \n",
      "4     73681ef7-ac57-4581-9d77-b3c128860237        None   False   \n",
      "...                                    ...         ...     ...   \n",
      "5178  bf7ee2c3-b9bb-427e-8155-6bdd3dc8cd16        None   False   \n",
      "5179  f05fcbe9-b358-4f37-8b95-e12f12c1e965        None   False   \n",
      "5180  0f2e9a26-2b6f-450e-a4ed-ea6ca32ca53d        None   False   \n",
      "5181  258d0583-b601-41dd-8018-50244e158473        None   False   \n",
      "5182  593e30c5-0bf7-404f-bba8-262d7d83796f        None   False   \n",
      "\n",
      "            subject_type            registration_location registration_date  \\\n",
      "0         Gram panchayat  {\"x\":23.6420067,\"y\":76.4420281}        2023-04-16   \n",
      "1                 Farmer   {\"x\":23.660585,\"y\":76.4460051}        2023-04-16   \n",
      "2     Excavating Machine  {\"x\":23.6524695,\"y\":76.4449204}        2023-04-17   \n",
      "3     Excavating Machine   {\"x\":23.550299,\"y\":76.6645532}        2023-04-15   \n",
      "4         Gram panchayat   {\"x\":23.5542693,\"y\":76.659861}        2023-04-15   \n",
      "...                  ...                              ...               ...   \n",
      "5178              Farmer   {\"x\":24.6918099,\"y\":72.885489}        2024-06-01   \n",
      "5179              Farmer   {\"x\":24.691809,\"y\":72.8854856}        2024-06-01   \n",
      "5180              Farmer    {\"x\":24.69181,\"y\":72.8854879}        2024-06-01   \n",
      "5181              Farmer  {\"x\":24.6918064,\"y\":72.8854893}        2024-06-01   \n",
      "5182              Farmer   {\"x\":24.691807,\"y\":72.8854873}        2024-06-01   \n",
      "\n",
      "                                               location relatives  \\\n",
      "0     {\"GP/Village\":\"Dugya\",\"GP/Village External ID\"...      None   \n",
      "1     {\"Dam\":\"Dugya talab 01\",\"Dam External ID\":null...      None   \n",
      "2     {\"Dam\":\"Dugya talab 01\",\"Dam External ID\":null...      None   \n",
      "3     {\"Dam\":\"Tikod Talab 02\",\"Dam External ID\":null...      None   \n",
      "4     {\"GP/Village\":\"Tikod\",\"GP/Village External ID\"...      None   \n",
      "...                                                 ...       ...   \n",
      "5178  {\"Dam\":\"Sarkera Talab\",\"Dam External ID\":null,...      None   \n",
      "5179  {\"Dam\":\"Sarkera Talab\",\"Dam External ID\":null,...      None   \n",
      "5180  {\"Dam\":\"Sarkera Talab\",\"Dam External ID\":null,...      None   \n",
      "5181  {\"Dam\":\"Sarkera Talab\",\"Dam External ID\":null,...      None   \n",
      "5182  {\"Dam\":\"Sarkera Talab\",\"Dam External ID\":null,...      None   \n",
      "\n",
      "                                           observations  \\\n",
      "0                              {\"First name\":\"DUGIYA \"}   \n",
      "1     {\"First name\":\"Ravi \",\"Last name\":\"Bana\",\"Date...   \n",
      "2     {\"First name\":\"MP 39 ZB 1969\",\"Contractor's na...   \n",
      "3     {\"First name\":\"MP 42 BA 0147\",\"Contractor's na...   \n",
      "4                                {\"First name\":\"Tikod\"}   \n",
      "...                                                 ...   \n",
      "5178  {\"First name\":\"Revashankar\",\"Last name\":\"Somaj...   \n",
      "5179  {\"First name\":\"Dinesh \",\"Last name\":\"Bhanaji \"...   \n",
      "5180  {\"First name\":\"Ramesh \",\"Last name\":\"Hiralal \"...   \n",
      "5181  {\"First name\":\"Ramesh\",\"Last name\":\"Devaji\",\"D...   \n",
      "5182  {\"First name\":\"Soparam\",\"Last name\":\"Punaji\",\"...   \n",
      "\n",
      "                                             encounters enrolments  \\\n",
      "0     [\"5766651d-6005-448f-aaf8-049153540210\",\"f6a02...         []   \n",
      "1              [\"99d17b35-8cf8-416d-8420-dbbc5c59286d\"]         []   \n",
      "2              [\"cf734563-dd74-4216-9abd-5a8c6f1ed485\"]         []   \n",
      "3              [\"34aaa61c-0e68-4dd7-87b4-17416a147325\"]         []   \n",
      "4              [\"57dcfad7-a912-4d8a-8d33-41df12698875\"]         []   \n",
      "...                                                 ...        ...   \n",
      "5178                                                 []         []   \n",
      "5179                                                 []         []   \n",
      "5180                                                 []         []   \n",
      "5181                                                 []         []   \n",
      "5182                                                 []         []   \n",
      "\n",
      "              last_modified_at  \\\n",
      "0     2023-04-16T10:49:01.430Z   \n",
      "1     2023-04-16T12:06:06.287Z   \n",
      "2     2023-04-17T05:32:11.415Z   \n",
      "3     2023-04-17T08:05:47.815Z   \n",
      "4     2023-04-17T08:05:49.014Z   \n",
      "...                        ...   \n",
      "5178  2024-06-01T03:26:23.457Z   \n",
      "5179  2024-06-01T03:26:23.689Z   \n",
      "5180  2024-06-01T03:26:23.936Z   \n",
      "5181  2024-06-01T03:26:24.181Z   \n",
      "5182  2024-06-01T03:26:24.442Z   \n",
      "\n",
      "                                             catchments  \\\n",
      "0     [\"JH, MP, RJ & MH\",\"\",\"Sarangpur\",\"Rajgarh Dis...   \n",
      "1     [\"JH, MP, RJ & MH\",\"\",\"Sarangpur\",\"Rajgarh Dis...   \n",
      "2     [\"JH, MP, RJ & MH\",\"\",\"Sarangpur\",\"Rajgarh Dis...   \n",
      "3     [\"JH, MP, RJ & MH\",\"\",\"Sarangpur\",\"Rajgarh Dis...   \n",
      "4     [\"JH, MP, RJ & MH\",\"\",\"Sarangpur\",\"Rajgarh Dis...   \n",
      "...                                                 ...   \n",
      "5178  [\"Pindwada 3\",\"JH, MP, RJ & MH\",\"Sarkera Talab...   \n",
      "5179  [\"Pindwada 3\",\"JH, MP, RJ & MH\",\"Sarkera Talab...   \n",
      "5180  [\"Pindwada 3\",\"JH, MP, RJ & MH\",\"Sarkera Talab...   \n",
      "5181  [\"Pindwada 3\",\"JH, MP, RJ & MH\",\"Sarkera Talab...   \n",
      "5182  [\"Pindwada 3\",\"JH, MP, RJ & MH\",\"Sarkera Talab...   \n",
      "\n",
      "                                                  audit groups  \\\n",
      "0     {\"Created at\":\"2023-04-16T10:49:01.430Z\",\"Last...     []   \n",
      "1     {\"Created at\":\"2023-04-16T12:06:06.287Z\",\"Last...     []   \n",
      "2     {\"Created at\":\"2023-04-17T05:32:11.415Z\",\"Last...     []   \n",
      "3     {\"Created at\":\"2023-04-17T08:05:47.815Z\",\"Last...     []   \n",
      "4     {\"Created at\":\"2023-04-17T08:05:49.014Z\",\"Last...     []   \n",
      "...                                                 ...    ...   \n",
      "5178  {\"Created at\":\"2024-06-01T03:26:23.457Z\",\"Last...     []   \n",
      "5179  {\"Created at\":\"2024-06-01T03:26:23.689Z\",\"Last...     []   \n",
      "5180  {\"Created at\":\"2024-06-01T03:26:23.936Z\",\"Last...     []   \n",
      "5181  {\"Created at\":\"2024-06-01T03:26:24.181Z\",\"Last...     []   \n",
      "5182  {\"Created at\":\"2024-06-01T03:26:24.442Z\",\"Last...     []   \n",
      "\n",
      "                 _airbyte_raw_id   _airbyte_extracted_at _airbyte_meta  \n",
      "0     01HZABS8DQKJWSE3GN5DSDAPK5 2024-06-01 16:58:03.053            {}  \n",
      "1     01HZABS8DR26NVTV0QKC9K0X3N 2024-06-01 16:58:03.058            {}  \n",
      "2     01HZABS8DRX784ZC2STKK08K6B 2024-06-01 16:58:03.062            {}  \n",
      "3     01HZABS8DT7VKMF8A0DQFR23GG 2024-06-01 16:58:03.066            {}  \n",
      "4     01HZABS8DYDSAW8BN6AP8GN4V8 2024-06-01 16:58:03.070            {}  \n",
      "...                          ...                     ...           ...  \n",
      "5178  01HZACFM8S9B5YKHVFAHYK0B1A 2024-06-01 17:10:16.089            {}  \n",
      "5179  01HZACFM8YSV4NG0MN86DWY480 2024-06-01 17:10:16.093            {}  \n",
      "5180  01HZACFM9343V8WKKQCS5WAA63 2024-06-01 17:10:16.098            {}  \n",
      "5181  01HZACFM962B2F836MMF49CD8X 2024-06-01 17:10:16.102            {}  \n",
      "5182  01HZACFM9AFF8CYD1RWDNRS84V 2024-06-01 17:10:16.106            {}  \n",
      "\n",
      "[5183 rows x 18 columns]\n"
     ]
    }
   ],
   "source": [
    "avni_data = read_result[\"subjects\"].to_pandas() \n",
    "\n",
    "print(avni_data)"
   ]
  },
  {
   "cell_type": "code",
   "execution_count": 23,
   "metadata": {},
   "outputs": [
    {
     "name": "stdout",
     "output_type": "stream",
     "text": [
      "0.1.0\n"
     ]
    }
   ],
   "source": [
    "a = source.connector_version\n",
    "\n",
    "print(a)"
   ]
  },
  {
   "cell_type": "code",
   "execution_count": 26,
   "metadata": {},
   "outputs": [
    {
     "name": "stdout",
     "output_type": "stream",
     "text": [
      "streams=[AirbyteStream(name='subjects', json_schema={'$schema': 'http://json-schema.org/draft-07/schema#', 'type': 'object', 'additionalProperties': True, 'properties': {'ID': {'type': 'string'}, 'External ID': {'type': ['null', 'string']}, 'Voided': {'type': 'boolean'}, 'Subject type': {'type': ['null', 'string']}, 'Registration location': {'type': ['null', 'object'], 'additionalProperties': True, 'properties': {'X': {'type': ['null', 'number']}, 'Y': {'type': ['null', 'number'], 'example': 74.7364501}}}, 'Registration date': {'type': ['null', 'string']}, 'location': {'type': ['null', 'object'], 'additionalProperties': True}, 'relatives': {'type': ['null', 'array'], 'items': {'type': 'object', 'additionalProperties': True, 'properties': {'Voided': {'type': 'boolean'}, 'Relationship type': {'type': ['null', 'string']}, 'Relative ID': {'type': ['null', 'string']}, 'Relative external ID': {'type': ['null', 'string']}, 'Enter date': {'type': ['null', 'string']}, 'Exit date': {'type': ['null', 'string']}}}}, 'observations': {'type': ['null', 'object'], 'additionalProperties': True}, 'encounters': {'type': ['null', 'array'], 'items': {'type': ['null', 'string'], 'format': 'uuid'}}, 'enrolments': {'type': ['null', 'array'], 'items': {'type': ['null', 'string'], 'format': 'uuid'}}, 'last_modified_at': {'type': 'string', 'format': 'YYYY-MM-DDTHH:mm:ss.sssZ'}, 'catchments': {'type': ['null', 'array'], 'items': {'type': ['null', 'string']}}, 'audit': {'type': ['null', 'object'], 'additionalProperties': True, 'properties': {'Created at': {'type': ['null', 'string'], 'format': 'YYYY-MM-DDTHH:mm:ss.sssZ'}, 'Last modified at': {'type': ['null', 'string'], 'format': 'YYYY-MM-DDTHH:mm:ss.sssZ'}, 'Created by': {'type': ['null', 'string']}, 'Last modified by': {'type': ['null', 'string']}}}, 'Groups': {'type': ['null', 'array'], 'items': {'type': ['null', 'string']}}}}, supported_sync_modes=[<SyncMode.full_refresh: 'full_refresh'>, <SyncMode.incremental: 'incremental'>], source_defined_cursor=True, default_cursor_field=['last_modified_at'], source_defined_primary_key=[['ID']], namespace=None, is_resumable=None), AirbyteStream(name='program_enrolments', json_schema={'$schema': 'http://json-schema.org/draft-07/schema#', 'type': 'object', 'additionalProperties': True, 'properties': {'ID': {'type': 'string'}, 'External ID': {'type': ['null', 'string']}, 'Voided': {'type': 'boolean'}, 'Subject ID': {'type': 'string'}, 'Subject type': {'type': 'string'}, 'Subject external ID': {'type': ['null', 'string']}, 'Program': {'type': ['null', 'string']}, 'Enrolment datetime': {'type': ['null', 'string']}, 'Enrolment location': {'type': ['null', 'object'], 'additionalProperties': True, 'properties': {'X': {'type': ['null', 'number']}, 'Y': {'type': ['null', 'number']}}}, 'Exit datetime': {'type': ['null', 'string']}, 'Exit location': {'type': ['null', 'object'], 'additionalProperties': True, 'properties': {'X': {'type': ['null', 'number']}, 'Y': {'type': ['null', 'number']}}}, 'observations': {'type': ['null', 'object'], 'additionalProperties': True}, 'exitObservations': {'type': ['null', 'object'], 'additionalProperties': True}, 'encounters': {'type': ['null', 'array'], 'items': {'type': ['null', 'string']}}, 'last_modified_at': {'type': 'string', 'format': 'YYYY-MM-DDTHH:mm:ss.sssZ'}, 'audit': {'type': ['null', 'object'], 'additionalProperties': True, 'properties': {'Created at': {'type': ['null', 'string'], 'format': 'YYYY-MM-DDTHH:mm:ss.sssZ'}, 'Last modified at': {'type': ['null', 'string'], 'format': 'YYYY-MM-DDTHH:mm:ss.sssZ'}, 'Created by': {'type': ['null', 'string']}, 'Last modified by': {'type': ['null', 'string']}}}}}, supported_sync_modes=[<SyncMode.full_refresh: 'full_refresh'>, <SyncMode.incremental: 'incremental'>], source_defined_cursor=True, default_cursor_field=['last_modified_at'], source_defined_primary_key=[['ID']], namespace=None, is_resumable=None), AirbyteStream(name='program_encounters', json_schema={'$schema': 'http://json-schema.org/draft-07/schema#', 'type': 'object', 'additionalProperties': True, 'properties': {'ID': {'type': ['null', 'string']}, 'External ID': {'type': ['null', 'string']}, 'Voided': {'type': 'boolean'}, 'Subject ID': {'type': ['null', 'string']}, 'Subject type': {'type': ['null', 'string']}, 'Subject external ID': {'type': ['null', 'string']}, 'Enrolment ID': {'type': ['null', 'string']}, 'Enrolment external ID': {'type': ['null', 'string']}, 'Program': {'type': ['null', 'string']}, 'Encounter type': {'type': ['null', 'string']}, 'Encounter date time': {'type': ['null', 'string'], 'format': 'YYYY-MM-DDTHH:mm:ss.sssZ'}, 'Encounter location': {'type': ['null', 'object'], 'additionalProperties': True, 'properties': {'X': {'type': ['null', 'number']}, 'Y': {'type': ['null', 'number'], 'example': 74.7364501}}}, 'Earliest scheduled date': {'type': ['null', 'string'], 'format': 'YYYY-MM-DDTHH:mm:ss.sssZ'}, 'Max scheduled date': {'type': ['null', 'string'], 'format': 'YYYY-MM-DDTHH:mm:ss.sssZ'}, 'observations': {'type': ['null', 'object'], 'additionalProperties': True}, 'Cancel location': {'type': ['null', 'object'], 'additionalProperties': True, 'properties': {'X': {'type': ['null', 'number']}, 'Y': {'type': ['null', 'number'], 'example': 74.7364501}}}, 'Cancel date time': {'type': ['null', 'string'], 'format': 'YYYY-MM-DDTHH:mm:ss.sssZ'}, 'cancelObservations': {'type': ['null', 'object'], 'additionalProperties': True}, 'last_modified_at': {'type': 'string', 'format': 'YYYY-MM-DDTHH:mm:ss.sssZ'}, 'audit': {'type': ['null', 'object'], 'properties': {'Created at': {'type': ['null', 'string'], 'format': 'YYYY-MM-DDTHH:mm:ss.sssZ'}, 'Last modified at': {'type': ['null', 'string'], 'format': 'YYYY-MM-DDTHH:mm:ss.sssZ'}, 'Created by': {'type': ['null', 'string']}, 'Last modified by': {'type': ['null', 'string']}}}}}, supported_sync_modes=[<SyncMode.full_refresh: 'full_refresh'>, <SyncMode.incremental: 'incremental'>], source_defined_cursor=True, default_cursor_field=['last_modified_at'], source_defined_primary_key=[['ID']], namespace=None, is_resumable=None), AirbyteStream(name='encounters', json_schema={'$schema': 'http://json-schema.org/draft-07/schema#', 'type': 'object', 'additionalProperties': True, 'properties': {'ID': {'type': 'string'}, 'External ID': {'type': ['null', 'string']}, 'Voided': {'type': 'boolean'}, 'Encounter type': {'type': ['null', 'string']}, 'Subject ID': {'type': 'string'}, 'Subject type': {'type': 'string'}, 'Subject external ID': {'type': ['null', 'string']}, 'Encounter date time': {'type': ['null', 'string'], 'format': 'YYYY-MM-DDTHH:mm:ss.sssZ'}, 'Encounter location': {'type': ['null', 'object'], 'additionalProperties': True, 'properties': {'X': {'type': ['null', 'number']}, 'Y': {'type': ['null', 'number']}}}, 'Earliest scheduled date': {'type': ['null', 'string'], 'format': 'YYYY-MM-DDTHH:mm:ss.sssZ'}, 'Max scheduled date': {'type': ['null', 'string'], 'format': 'YYYY-MM-DDTHH:mm:ss.sssZ'}, 'observations': {'type': ['null', 'object'], 'additionalProperties': True}, 'Cancel location': {'type': ['null', 'object'], 'additionalProperties': True, 'properties': {'X': {'type': ['null', 'number']}, 'Y': {'type': ['null', 'number'], 'example': 74.7364501}}}, 'Cancel date time': {'type': ['null', 'string'], 'format': 'YYYY-MM-DDTHH:mm:ss.sssZ'}, 'cancelObservations': {'type': ['null', 'object'], 'additionalProperties': True}, 'last_modified_at': {'type': 'string', 'format': 'YYYY-MM-DDTHH:mm:ss.sssZ'}, 'audit': {'type': ['null', 'object'], 'additionalProperties': True, 'properties': {'Created at': {'type': ['null', 'string'], 'format': 'YYYY-MM-DDTHH:mm:ss.sssZ'}, 'Last modified at': {'type': ['null', 'string'], 'format': 'YYYY-MM-DDTHH:mm:ss.sssZ'}, 'Created by': {'type': ['null', 'string']}, 'Last modified by': {'type': ['null', 'string']}}}}}, supported_sync_modes=[<SyncMode.full_refresh: 'full_refresh'>, <SyncMode.incremental: 'incremental'>], source_defined_cursor=True, default_cursor_field=['last_modified_at'], source_defined_primary_key=[['ID']], namespace=None, is_resumable=None)]\n"
     ]
    }
   ],
   "source": [
    "b = source.discovered_catalog\n",
    "\n",
    "print(b)"
   ]
  },
  {
   "cell_type": "code",
   "execution_count": 28,
   "metadata": {},
   "outputs": [
    {
     "name": "stdout",
     "output_type": "stream",
     "text": [
      "https://docs.airbyte.com/integrations/sources/avni\n"
     ]
    }
   ],
   "source": [
    "c = source.docs_url\n",
    "print(c)"
   ]
  },
  {
   "cell_type": "code",
   "execution_count": 29,
   "metadata": {},
   "outputs": [
    {
     "name": "stdout",
     "output_type": "stream",
     "text": [
      "streams=[ConfiguredAirbyteStream(stream=AirbyteStream(name='subjects', json_schema={'$schema': 'http://json-schema.org/draft-07/schema#', 'type': 'object', 'additionalProperties': True, 'properties': {'ID': {'type': 'string'}, 'External ID': {'type': ['null', 'string']}, 'Voided': {'type': 'boolean'}, 'Subject type': {'type': ['null', 'string']}, 'Registration location': {'type': ['null', 'object'], 'additionalProperties': True, 'properties': {'X': {'type': ['null', 'number']}, 'Y': {'type': ['null', 'number'], 'example': 74.7364501}}}, 'Registration date': {'type': ['null', 'string']}, 'location': {'type': ['null', 'object'], 'additionalProperties': True}, 'relatives': {'type': ['null', 'array'], 'items': {'type': 'object', 'additionalProperties': True, 'properties': {'Voided': {'type': 'boolean'}, 'Relationship type': {'type': ['null', 'string']}, 'Relative ID': {'type': ['null', 'string']}, 'Relative external ID': {'type': ['null', 'string']}, 'Enter date': {'type': ['null', 'string']}, 'Exit date': {'type': ['null', 'string']}}}}, 'observations': {'type': ['null', 'object'], 'additionalProperties': True}, 'encounters': {'type': ['null', 'array'], 'items': {'type': ['null', 'string'], 'format': 'uuid'}}, 'enrolments': {'type': ['null', 'array'], 'items': {'type': ['null', 'string'], 'format': 'uuid'}}, 'last_modified_at': {'type': 'string', 'format': 'YYYY-MM-DDTHH:mm:ss.sssZ'}, 'catchments': {'type': ['null', 'array'], 'items': {'type': ['null', 'string']}}, 'audit': {'type': ['null', 'object'], 'additionalProperties': True, 'properties': {'Created at': {'type': ['null', 'string'], 'format': 'YYYY-MM-DDTHH:mm:ss.sssZ'}, 'Last modified at': {'type': ['null', 'string'], 'format': 'YYYY-MM-DDTHH:mm:ss.sssZ'}, 'Created by': {'type': ['null', 'string']}, 'Last modified by': {'type': ['null', 'string']}}}, 'Groups': {'type': ['null', 'array'], 'items': {'type': ['null', 'string']}}}}, supported_sync_modes=[<SyncMode.full_refresh: 'full_refresh'>, <SyncMode.incremental: 'incremental'>], source_defined_cursor=True, default_cursor_field=['last_modified_at'], source_defined_primary_key=[['ID']], namespace=None, is_resumable=None), sync_mode=<SyncMode.incremental: 'incremental'>, cursor_field=None, destination_sync_mode=<DestinationSyncMode.overwrite: 'overwrite'>, primary_key=[['ID']], generation_id=None, minimum_generation_id=None, sync_id=None), ConfiguredAirbyteStream(stream=AirbyteStream(name='program_enrolments', json_schema={'$schema': 'http://json-schema.org/draft-07/schema#', 'type': 'object', 'additionalProperties': True, 'properties': {'ID': {'type': 'string'}, 'External ID': {'type': ['null', 'string']}, 'Voided': {'type': 'boolean'}, 'Subject ID': {'type': 'string'}, 'Subject type': {'type': 'string'}, 'Subject external ID': {'type': ['null', 'string']}, 'Program': {'type': ['null', 'string']}, 'Enrolment datetime': {'type': ['null', 'string']}, 'Enrolment location': {'type': ['null', 'object'], 'additionalProperties': True, 'properties': {'X': {'type': ['null', 'number']}, 'Y': {'type': ['null', 'number']}}}, 'Exit datetime': {'type': ['null', 'string']}, 'Exit location': {'type': ['null', 'object'], 'additionalProperties': True, 'properties': {'X': {'type': ['null', 'number']}, 'Y': {'type': ['null', 'number']}}}, 'observations': {'type': ['null', 'object'], 'additionalProperties': True}, 'exitObservations': {'type': ['null', 'object'], 'additionalProperties': True}, 'encounters': {'type': ['null', 'array'], 'items': {'type': ['null', 'string']}}, 'last_modified_at': {'type': 'string', 'format': 'YYYY-MM-DDTHH:mm:ss.sssZ'}, 'audit': {'type': ['null', 'object'], 'additionalProperties': True, 'properties': {'Created at': {'type': ['null', 'string'], 'format': 'YYYY-MM-DDTHH:mm:ss.sssZ'}, 'Last modified at': {'type': ['null', 'string'], 'format': 'YYYY-MM-DDTHH:mm:ss.sssZ'}, 'Created by': {'type': ['null', 'string']}, 'Last modified by': {'type': ['null', 'string']}}}}}, supported_sync_modes=[<SyncMode.full_refresh: 'full_refresh'>, <SyncMode.incremental: 'incremental'>], source_defined_cursor=True, default_cursor_field=['last_modified_at'], source_defined_primary_key=[['ID']], namespace=None, is_resumable=None), sync_mode=<SyncMode.incremental: 'incremental'>, cursor_field=None, destination_sync_mode=<DestinationSyncMode.overwrite: 'overwrite'>, primary_key=[['ID']], generation_id=None, minimum_generation_id=None, sync_id=None), ConfiguredAirbyteStream(stream=AirbyteStream(name='program_encounters', json_schema={'$schema': 'http://json-schema.org/draft-07/schema#', 'type': 'object', 'additionalProperties': True, 'properties': {'ID': {'type': ['null', 'string']}, 'External ID': {'type': ['null', 'string']}, 'Voided': {'type': 'boolean'}, 'Subject ID': {'type': ['null', 'string']}, 'Subject type': {'type': ['null', 'string']}, 'Subject external ID': {'type': ['null', 'string']}, 'Enrolment ID': {'type': ['null', 'string']}, 'Enrolment external ID': {'type': ['null', 'string']}, 'Program': {'type': ['null', 'string']}, 'Encounter type': {'type': ['null', 'string']}, 'Encounter date time': {'type': ['null', 'string'], 'format': 'YYYY-MM-DDTHH:mm:ss.sssZ'}, 'Encounter location': {'type': ['null', 'object'], 'additionalProperties': True, 'properties': {'X': {'type': ['null', 'number']}, 'Y': {'type': ['null', 'number'], 'example': 74.7364501}}}, 'Earliest scheduled date': {'type': ['null', 'string'], 'format': 'YYYY-MM-DDTHH:mm:ss.sssZ'}, 'Max scheduled date': {'type': ['null', 'string'], 'format': 'YYYY-MM-DDTHH:mm:ss.sssZ'}, 'observations': {'type': ['null', 'object'], 'additionalProperties': True}, 'Cancel location': {'type': ['null', 'object'], 'additionalProperties': True, 'properties': {'X': {'type': ['null', 'number']}, 'Y': {'type': ['null', 'number'], 'example': 74.7364501}}}, 'Cancel date time': {'type': ['null', 'string'], 'format': 'YYYY-MM-DDTHH:mm:ss.sssZ'}, 'cancelObservations': {'type': ['null', 'object'], 'additionalProperties': True}, 'last_modified_at': {'type': 'string', 'format': 'YYYY-MM-DDTHH:mm:ss.sssZ'}, 'audit': {'type': ['null', 'object'], 'properties': {'Created at': {'type': ['null', 'string'], 'format': 'YYYY-MM-DDTHH:mm:ss.sssZ'}, 'Last modified at': {'type': ['null', 'string'], 'format': 'YYYY-MM-DDTHH:mm:ss.sssZ'}, 'Created by': {'type': ['null', 'string']}, 'Last modified by': {'type': ['null', 'string']}}}}}, supported_sync_modes=[<SyncMode.full_refresh: 'full_refresh'>, <SyncMode.incremental: 'incremental'>], source_defined_cursor=True, default_cursor_field=['last_modified_at'], source_defined_primary_key=[['ID']], namespace=None, is_resumable=None), sync_mode=<SyncMode.incremental: 'incremental'>, cursor_field=None, destination_sync_mode=<DestinationSyncMode.overwrite: 'overwrite'>, primary_key=[['ID']], generation_id=None, minimum_generation_id=None, sync_id=None), ConfiguredAirbyteStream(stream=AirbyteStream(name='encounters', json_schema={'$schema': 'http://json-schema.org/draft-07/schema#', 'type': 'object', 'additionalProperties': True, 'properties': {'ID': {'type': 'string'}, 'External ID': {'type': ['null', 'string']}, 'Voided': {'type': 'boolean'}, 'Encounter type': {'type': ['null', 'string']}, 'Subject ID': {'type': 'string'}, 'Subject type': {'type': 'string'}, 'Subject external ID': {'type': ['null', 'string']}, 'Encounter date time': {'type': ['null', 'string'], 'format': 'YYYY-MM-DDTHH:mm:ss.sssZ'}, 'Encounter location': {'type': ['null', 'object'], 'additionalProperties': True, 'properties': {'X': {'type': ['null', 'number']}, 'Y': {'type': ['null', 'number']}}}, 'Earliest scheduled date': {'type': ['null', 'string'], 'format': 'YYYY-MM-DDTHH:mm:ss.sssZ'}, 'Max scheduled date': {'type': ['null', 'string'], 'format': 'YYYY-MM-DDTHH:mm:ss.sssZ'}, 'observations': {'type': ['null', 'object'], 'additionalProperties': True}, 'Cancel location': {'type': ['null', 'object'], 'additionalProperties': True, 'properties': {'X': {'type': ['null', 'number']}, 'Y': {'type': ['null', 'number'], 'example': 74.7364501}}}, 'Cancel date time': {'type': ['null', 'string'], 'format': 'YYYY-MM-DDTHH:mm:ss.sssZ'}, 'cancelObservations': {'type': ['null', 'object'], 'additionalProperties': True}, 'last_modified_at': {'type': 'string', 'format': 'YYYY-MM-DDTHH:mm:ss.sssZ'}, 'audit': {'type': ['null', 'object'], 'additionalProperties': True, 'properties': {'Created at': {'type': ['null', 'string'], 'format': 'YYYY-MM-DDTHH:mm:ss.sssZ'}, 'Last modified at': {'type': ['null', 'string'], 'format': 'YYYY-MM-DDTHH:mm:ss.sssZ'}, 'Created by': {'type': ['null', 'string']}, 'Last modified by': {'type': ['null', 'string']}}}}}, supported_sync_modes=[<SyncMode.full_refresh: 'full_refresh'>, <SyncMode.incremental: 'incremental'>], source_defined_cursor=True, default_cursor_field=['last_modified_at'], source_defined_primary_key=[['ID']], namespace=None, is_resumable=None), sync_mode=<SyncMode.incremental: 'incremental'>, cursor_field=None, destination_sync_mode=<DestinationSyncMode.overwrite: 'overwrite'>, primary_key=[['ID']], generation_id=None, minimum_generation_id=None, sync_id=None)]\n"
     ]
    }
   ],
   "source": [
    "d = source.configured_catalog\n",
    "print(d)"
   ]
  },
  {
   "cell_type": "code",
   "execution_count": 49,
   "metadata": {},
   "outputs": [
    {
     "ename": "TypeError",
     "evalue": "install() takes 1 positional argument but 2 were given",
     "output_type": "error",
     "traceback": [
      "\u001b[0;31m---------------------------------------------------------------------------\u001b[0m",
      "\u001b[0;31mTypeError\u001b[0m                                 Traceback (most recent call last)",
      "Cell \u001b[0;32mIn[49], line 1\u001b[0m\n\u001b[0;32m----> 1\u001b[0m doc \u001b[38;5;241m=\u001b[39m \u001b[43msource\u001b[49m\u001b[38;5;241;43m.\u001b[39;49m\u001b[43minstall\u001b[49m\u001b[43m(\u001b[49m\u001b[38;5;124;43m\"\u001b[39;49m\u001b[38;5;124;43mArithmeticError\u001b[39;49m\u001b[38;5;124;43m\"\u001b[39;49m\u001b[43m)\u001b[49m\n\u001b[1;32m      2\u001b[0m \u001b[38;5;28mprint\u001b[39m (doc)\n",
      "\u001b[0;31mTypeError\u001b[0m: install() takes 1 positional argument but 2 were given"
     ]
    }
   ],
   "source": [
    "doc = des\n",
    "print (doc)"
   ]
  },
  {
   "cell_type": "code",
   "execution_count": null,
   "metadata": {},
   "outputs": [],
   "source": []
  },
  {
   "cell_type": "code",
   "execution_count": null,
   "metadata": {},
   "outputs": [],
   "source": []
  }
 ],
 "metadata": {
  "kernelspec": {
   "display_name": "Python 3",
   "language": "python",
   "name": "python3"
  },
  "language_info": {
   "codemirror_mode": {
    "name": "ipython",
    "version": 3
   },
   "file_extension": ".py",
   "mimetype": "text/x-python",
   "name": "python",
   "nbconvert_exporter": "python",
   "pygments_lexer": "ipython3",
   "version": "3.9.6"
  }
 },
 "nbformat": 4,
 "nbformat_minor": 2
}
